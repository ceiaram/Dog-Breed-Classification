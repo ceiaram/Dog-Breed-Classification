{
 "cells": [
  {
   "cell_type": "markdown",
   "metadata": {},
   "source": [
    "<h2>Why use Cuda?</h2>\n",
    "<h5>Cuda perform compute-intensive operations faster by parallelizing tasks across GPUs </h5>"
   ]
  },
  {
   "cell_type": "code",
   "execution_count": 3,
   "metadata": {},
   "outputs": [
    {
     "name": "stdout",
     "output_type": "stream",
     "text": [
      "Is CUDA supported by this system? True\n",
      "11.8\n",
      "cuda\n"
     ]
    }
   ],
   "source": [
    "import torch\n",
    " \n",
    "print(f\"Is CUDA supported by this system? {torch.cuda.is_available()}\")\n",
    "print(torch.version.cuda)\n",
    "\n",
    "device = torch.device(\"cuda\" if torch.cuda.is_available() else \"cpu\")\n",
    "print(device)"
   ]
  },
  {
   "cell_type": "markdown",
   "metadata": {},
   "source": [
    "<h2>Training a Classifier</h2>\n",
    "<h5>We will do the following steps in order:</h5>\n",
    "<ol>\n",
    "    <li>Load and normalize the dog breed training and test datasets using torchvision</li>\n",
    "    <li>Define a Convolutional Neural Network</li>\n",
    "    <li>Define a loss function</li>\n",
    "    <li>Train the network on the training data</li>\n",
    "    <li>Test the network on the test data</li>\n",
    "</ol>"
   ]
  },
  {
   "cell_type": "markdown",
   "metadata": {},
   "source": [
    "<h3>Load and normalize dog breed dataset</h3>"
   ]
  },
  {
   "cell_type": "code",
   "execution_count": 7,
   "metadata": {},
   "outputs": [],
   "source": [
    "import torch \n",
    "from torchvision import datasets, transforms\n",
    "\n",
    "# # Transforms can be used to transform or augment data for training or inference of different tasks \n",
    "# # (image classification, detection, segmentation, video classification)\n",
    "# transform = transforms.Compose([\n",
    "#     transforms.Resize(255), # Resize image to same size for training\n",
    "#     transforms.ToTensor(), # Encode the inputs and outputs of a model to perfrom operation like extracting features\n",
    "# ]\n",
    "# )\n",
    "# # Download dataset from folder using torchvision\n",
    "# dataset = datasets.ImageFolder('./dogBreeds/images/Images/', transform=transform)\n",
    "# print(dataset)\n",
    "\n",
    "# batch_size = 32\n",
    "# data_loader = torch.utils.data.DataLoader(dataset,batch_size, shuffle=True)"
   ]
  },
  {
   "cell_type": "markdown",
   "metadata": {},
   "source": [
    "<h3>Creating custom dataset from files</h3>"
   ]
  },
  {
   "cell_type": "code",
   "execution_count": null,
   "metadata": {},
   "outputs": [],
   "source": [
    "# import pandas as pd\n",
    "# class DogBreedDataset(Dataset):\n",
    "#     def __init__(self, annotations_file, img_dir, transform=None, target_transform=None):\n",
    "#         self.image_labels = pd.\n",
    "        "
   ]
  }
 ],
 "metadata": {
  "kernelspec": {
   "display_name": "Python 3",
   "language": "python",
   "name": "python3"
  },
  "language_info": {
   "codemirror_mode": {
    "name": "ipython",
    "version": 3
   },
   "file_extension": ".py",
   "mimetype": "text/x-python",
   "name": "python",
   "nbconvert_exporter": "python",
   "pygments_lexer": "ipython3",
   "version": "3.10.12"
  }
 },
 "nbformat": 4,
 "nbformat_minor": 2
}
